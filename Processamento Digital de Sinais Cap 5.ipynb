{
 "cells": [
  {
   "cell_type": "markdown",
   "metadata": {},
   "source": [
    "<div>\n",
    "  <center><h2><strong>Processamento Digital de Sinais</strong></h2></center>\n",
    "  <center><h3><strong>ESTUDO DIRIGIDO</strong></h3></center>\n",
    "</div><p>\n",
    "\n"
   ]
  },
  {
   "cell_type": "markdown",
   "metadata": {},
   "source": [
    "<div>\n",
    "<center><strong>Semestre:</strong> 2024.2<p></center>\n",
    "<center><strong>Livro Texto:</strong> Digital Signal Processing using MatLab<p></center>\n",
    "<strong>Professor:</strong> Moacy Pereira da Silva<p>\n",
    "<strong>Aluno:</strong> Ivysson Fernandes de Queiroz Uchôa<p>\n"
   ]
  },
  {
   "cell_type": "markdown",
   "metadata": {},
   "source": [
    "## __Capítulo 5 - A Transformada Discreta de Fourier__\n",
    "\n",
    "---"
   ]
  },
  {
   "cell_type": "markdown",
   "metadata": {},
   "source": [
    "<p>A transformada de Fourier é utilizada para converter um sinal no domínio do tempo em um espectro de frequência. Esse método se baseia no fato de que qualquer função não linear pode ser representada como uma soma infinita de ondas senoidais.\n",
    "\n",
    "<p>A transformada de Fourier separa um sinal de tempo e fornece informações sobre a frequência de todas as ondas senoidais necessárias para reconstruir o sinal original.\n",
    "\n",
    "<p>A série de Fourier é qualquer sinal periódico que pode ser decomposto em uma soma de ondas senoidais puras. Cada senoide tem uma frequência que é um múltiplo inteiro da frequência fundamental do sinal distorcido, também conhecida como harmônicos.\n",
    "</div>"
   ]
  },
  {
   "cell_type": "markdown",
   "metadata": {},
   "source": [
    "### <u> A Série Discreta de Fourier"
   ]
  },
  {
   "cell_type": "markdown",
   "metadata": {},
   "source": [
    "<p>Uma sequencia periodica é definida por:\n",
    "\n",
    "$$\n",
    "x(n)=/x(n + kN), ∀n, k \n",
    "$$\n",
    "\n",
    "<p>onde N é o período fundamental da sequência"
   ]
  },
  {
   "cell_type": "markdown",
   "metadata": {},
   "source": [
    "* <strong>Exemplo 1: <strong>: Encontre a Série Discreta de Fourier que represente a sequencia periodica:\n",
    "\n",
    "<center>\n",
    "<p>x˜(n) = {..., 0, 1, 2, 3, 0, 1, 2, 3, 0, 1, 2, 3,...}\n",
    "<p>       ↑\n",
    "</center>\n",
    "\n",
    "<p>Solução:\n"
   ]
  },
  {
   "cell_type": "code",
   "execution_count": 3,
   "metadata": {},
   "outputs": [
    {
     "name": "stdout",
     "output_type": "stream",
     "text": [
      "Xk = [ 6.+0.j -2.+2.j -2.+0.j -2.-2.j]\n"
     ]
    }
   ],
   "source": [
    "import numpy as np\n",
    "\n",
    "xn = np.array([0, 1, 2, 3])\n",
    "N = 4\n",
    "\n",
    "# Cálculo da DFT (Discrete Fourier Series)\n",
    "Xk = np.fft.fft(xn, N)\n",
    "\n",
    "print(\"Xk =\", Xk)\n"
   ]
  },
  {
   "cell_type": "markdown",
   "metadata": {},
   "source": [
    "### <u> A Transformação Discreta de Fourier"
   ]
  },
  {
   "cell_type": "markdown",
   "metadata": {},
   "source": [
    "<p>A série discreta de Fourier fornece um mecanismo para calcular numericamente a transformada de Fourier de tempo discreto\n",
    "<p>A matemática determina que a amostragem da transformada de Fourier de tempo discreto (DFS) resulta em uma sequência periódica ˜x(n), mas a maioria dos sinais reais não são periódicos\n",
    "<p>Para resolver isso, a Transformação Discreta de Fourier (DFT) é introduzida como uma versão computável da DFS para sequências finitas.\n"
   ]
  },
  {
   "cell_type": "markdown",
   "metadata": {},
   "source": [
    "<p>A transformada Discreta de Fourier de uma sequência de N pontos é dada por:\n",
    "<center>\n",
    "\n",
    "![image.png](images/image1.png)\n"
   ]
  },
  {
   "cell_type": "markdown",
   "metadata": {},
   "source": [
    "<p>o DFS é praticamente equivalente ao DFT quando 0 ≤ n ≤ N − 1. Portanto, a\n",
    "implementação do DFT pode ser feita de forma semelhante"
   ]
  },
  {
   "cell_type": "markdown",
   "metadata": {},
   "source": [
    "* <strong>Exemplo 1:</strong> Seja x(n) uma sequencia de 4 pontos, calcule o quarto ponto da transformada Discreta de Fourier de x(n):\n",
    "\n",
    "$$\n",
    "x(n) =\n",
    "\\begin{cases} \n",
    "1, & 0 \\leq n \\leq 3 \\\\\n",
    "0, & \\text{outros}\n",
    "\\end{cases}\n",
    "$$\n",
    "\n",
    "\n",
    "<p>Solução:"
   ]
  },
  {
   "cell_type": "code",
   "execution_count": 6,
   "metadata": {},
   "outputs": [
    {
     "name": "stdout",
     "output_type": "stream",
     "text": [
      "magX = [4. 0. 0. 0.]\n"
     ]
    }
   ],
   "source": [
    "import numpy as np\n",
    "\n",
    "x = np.array([1, 1, 1, 1])\n",
    "N = 4\n",
    "X = np.fft.fft(x, N)  # Transformada Discreta de Fourier (DFT)\n",
    "\n",
    "magX = np.abs(X)  # Magnitude\n",
    "phaX = np.angle(X, deg=True)  # Fase em graus\n",
    "\n",
    "print(\"magX =\", magX)\n"
   ]
  },
  {
   "cell_type": "markdown",
   "metadata": {},
   "source": [
    "<p>Sendo assim: X4(k) = {4,0,0,0}\n"
   ]
  },
  {
   "cell_type": "markdown",
   "metadata": {},
   "source": [
    "### <u> Propriedades da Transformada Discreta de Fourier"
   ]
  },
  {
   "cell_type": "markdown",
   "metadata": {},
   "source": [
    "<p><strong>Linearidade:</strong> A soma de sinais transforma-se na soma de suas DFTs.\n",
    "<p><strong>Circularidade:</strong> Se tomarmos um sinal 𝑥(𝑛) e aplicarmos uma reversão no tempo (ou seja, refletirmos x(n) em torno do eixo n=0), a DFT do sinal dobrado é dada por:\n",
    "<center>\n",
    "\n",
    "![image.png](images/image2.png)\n",
    "</center>"
   ]
  },
  {
   "cell_type": "markdown",
   "metadata": {},
   "source": [
    "* <strong>Exemplo 1:</strong>: Dado x(n), verifique a propriedade de circularidade\n",
    "$$\n",
    "x(n) = 10 (0.8)^{n} , 0 ≤ n ≤ 10\n",
    "$$\n",
    "\n",
    "<p>Solução:"
   ]
  },
  {
   "cell_type": "code",
   "execution_count": 11,
   "metadata": {},
   "outputs": [],
   "source": [
    "import numpy as np\n",
    "import matplotlib.pyplot as plt\n",
    "\n",
    "# Definindo os valores de n e x\n",
    "n = np.arange(0, 11)  \n",
    "x = 10 * (0.8) ** n   # x = 10*(0.8)^n\n",
    "\n",
    "y = x[(-n) % 11]\n",
    "\n",
    "# Calculando as DFTs de x e y\n",
    "X = np.fft.fft(x, 11) \n",
    "Y = np.fft.fft(y, 11) "
   ]
  },
  {
   "cell_type": "code",
   "execution_count": 12,
   "metadata": {},
   "outputs": [
    {
     "data": {
      "image/png": "[encoded data removed]",
      "text/plain": [
       "<Figure size 800x600 with 4 Axes>"
      ]
     },
     "metadata": {},
     "output_type": "display_data"
    }
   ],
   "source": [
    "# Criando o gráfico\n",
    "plt.figure(figsize=(8, 6))\n",
    "\n",
    "# Subplot 1: Parte real da DFT de x\n",
    "plt.subplot(2, 2, 1)\n",
    "plt.stem(n, np.real(X))\n",
    "plt.title('Real{DFT[x(n)]}')\n",
    "plt.xlabel('k')\n",
    "plt.ylabel('Real(X)')\n",
    "plt.xlim(0, 10)  # Limitando o eixo x de 0 a 10\n",
    "\n",
    "# Subplot 2: Parte imaginária da DFT de x\n",
    "plt.subplot(2, 2, 2)\n",
    "plt.stem(n, np.imag(X))\n",
    "plt.title('Imag{DFT[x(n)]}')\n",
    "plt.xlabel('k')\n",
    "plt.ylabel('Imag(X)')\n",
    "plt.xlim(0, 10)  # Limitando o eixo x de 0 a 10\n",
    "\n",
    "# Subplot 3: Parte real da DFT de y\n",
    "plt.subplot(2, 2, 3)\n",
    "plt.stem(n, np.real(Y))\n",
    "plt.title('Real{DFT[x((-n))11]}')\n",
    "plt.xlabel('k')\n",
    "plt.ylabel('Real(Y)')\n",
    "plt.xlim(0, 10)  # Limitando o eixo x de 0 a 10\n",
    "\n",
    "# Subplot 4: Parte imaginária da DFT de y\n",
    "plt.subplot(2, 2, 4)\n",
    "plt.stem(n, np.imag(Y))\n",
    "plt.title('Imag{DFT[x((-n))11]}')\n",
    "plt.xlabel('k')\n",
    "plt.ylabel('Imag(Y)')\n",
    "plt.xlim(0, 10)  # Limitando o eixo x de 0 a 10\n",
    "\n",
    "# Ajustando o layout e exibindo o gráfico\n",
    "plt.tight_layout()\n",
    "plt.show()"
   ]
  },
  {
   "cell_type": "markdown",
   "metadata": {},
   "source": [
    "<p><strong>Conjugação:</strong> Semelhante à propriedade acima, temos que introduzir a dobragem circular no domínio da frequência, onde\n",
    "<center>\n",
    "\n",
    "![image-2.png](images/image3.png)\n",
    "</center>\n",
    "\n",
    "<p><strong>Deslocamento circular de uma sequencia:</strong>: Imagine que a sequência x(n) é enrolada em um círculo. Agora gire o círculo por k amostras e desembrulhe a sequência de 0 ≤ n ≤ N − 1. Sua DFT é dada por\n",
    "<center>\n",
    "\n",
    "![image-2.png](images/image4.png)\n",
    "</center>"
   ]
  },
  {
   "cell_type": "markdown",
   "metadata": {},
   "source": [
    "* <strong>Exemplo 2:</strong> Dada uma sequência de 11 pontos x(n), determine e plote x ((n − 6))15.\n",
    "\n",
    "$$\n",
    "x(n) = 10 (0.8)^{n} , 0 ≤ n ≤ 10\n",
    "$$\n",
    "\n",
    "<p>Solução:"
   ]
  },
  {
   "cell_type": "code",
   "execution_count": 13,
   "metadata": {},
   "outputs": [],
   "source": [
    "import numpy as np\n",
    "import matplotlib.pyplot as plt\n",
    "\n",
    "def cirshftt(x, m, N):\n",
    "# Função para deslocamento circular\n",
    "    x = np.array(x)\n",
    "    if len(x) < N:\n",
    "        x = np.append(x, np.zeros(N - len(x))) \n",
    "    return np.roll(x, -m) \n",
    "\n",
    "n = np.arange(0, 11) \n",
    "x = 10 * (0.8) ** n   # x = 10*(0.8)^n\n",
    "\n",
    "y = cirshftt(x, 6, 15)  # Desloca circularmente x por 6 posições com N=15\n",
    "\n",
    "n = np.arange(0, 15)\n",
    "x = np.append(x, np.zeros(4))"
   ]
  },
  {
   "cell_type": "code",
   "execution_count": 17,
   "metadata": {},
   "outputs": [
    {
     "data": {
      "image/png": "[encoded data removed]",
      "text/plain": [
       "<Figure size 800x600 with 2 Axes>"
      ]
     },
     "metadata": {},
     "output_type": "display_data"
    }
   ],
   "source": [
    "# Criando o gráfico\n",
    "plt.figure(figsize=(8, 6))\n",
    "\n",
    "# Subplot 1: Sequência original\n",
    "plt.subplot(2, 1, 1)\n",
    "plt.stem(n, x)\n",
    "plt.title('Original sequence')\n",
    "plt.xlabel('n')\n",
    "plt.ylabel('x(n)')\n",
    "plt.xlim(0, 14)  # Limitando o eixo x de 0 a 14\n",
    "\n",
    "# Subplot 2: Sequência deslocada circularmente\n",
    "plt.subplot(2, 1, 2)\n",
    "plt.stem(n, y)\n",
    "plt.title('Circularly shifted sequence, N=15')\n",
    "plt.xlabel('n')\n",
    "plt.ylabel('x((n-6) mod 15)')\n",
    "plt.xlim(0, 14)  # Limitando o eixo x de 0 a 14\n",
    "\n",
    "# Ajustando o layout e exibindo o gráfico\n",
    "plt.tight_layout()\n",
    "plt.show()"
   ]
  },
  {
   "cell_type": "markdown",
   "metadata": {},
   "source": [
    "<p><strong>Deslocamento circular no domínio da frequência:</strong>\n",
    "<center>\n",
    "\n",
    "![image-2.png](images/image5.png)\n",
    "</center>\n",
    "\n",
    "<p><strong>Convolução circular:</strong>Uma convolução linear entre duas sequências de N pontos resultará em uma sequência mais longa\n",
    "<center>\n",
    "\n",
    "![image-2.png](images/image6.png)\n",
    "</center>"
   ]
  },
  {
   "cell_type": "markdown",
   "metadata": {},
   "source": [
    "* <strong>Exemplo 3:</strong> Dada a sequencia x1(n) = {1, 2, 2} e x2(n) = {1, 2, 3, 4}, realize a convolução circular\n",
    "<p>Solução:\n"
   ]
  },
  {
   "cell_type": "code",
   "execution_count": 18,
   "metadata": {},
   "outputs": [],
   "source": [
    "import numpy as np\n",
    "\n",
    "def circonvt(x1, x2, N):\n",
    "# Função para convolução circular\n",
    "    x1_padded = np.pad(x1, (0, N - len(x1)), mode='constant')\n",
    "    x2_padded = np.pad(x2, (0, N - len(x2)), mode='constant')\n",
    "    \n",
    "    X1 = np.fft.fft(x1_padded)\n",
    "    X2 = np.fft.fft(x2_padded)\n",
    "    \n",
    "    Y = X1 * X2\n",
    "    y = np.fft.ifft(Y)\n",
    "    \n",
    "    return np.real(y)"
   ]
  },
  {
   "cell_type": "code",
   "execution_count": 19,
   "metadata": {},
   "outputs": [
    {
     "name": "stdout",
     "output_type": "stream",
     "text": [
      "y = [15. 12.  9. 14.]\n"
     ]
    }
   ],
   "source": [
    "x1 = [1, 2, 2]\n",
    "x2 = [1, 2, 3, 4]\n",
    "\n",
    "# Aplicando a convolução circular\n",
    "y = circonvt(x1, x2, 4)\n",
    "\n",
    "# Exibindo o resultado\n",
    "print(\"y =\", y)"
   ]
  },
  {
   "cell_type": "markdown",
   "metadata": {},
   "source": [
    "<p><strong>Multiplicação:</strong> Este é o dual da propriedade da convolução circular, em que a convolução circular é realizada no domínio da frequência\n",
    "<center>\n",
    "\n",
    "![image.png](images/image7.png)\n",
    "</center>\n",
    "\n",
    "<p><strong>Relação de Parseval::</strong> Esta relação calcula a energia no domínio da frequência\n",
    "<center>\n",
    "\n",
    "![image.png](images/image8.png)\n",
    "</center>"
   ]
  },
  {
   "cell_type": "markdown",
   "metadata": {},
   "source": []
  }
 ],
 "metadata": {
  "kernelspec": {
   "display_name": "Python 3",
   "language": "python",
   "name": "python3"
  },
  "language_info": {
   "codemirror_mode": {
    "name": "ipython",
    "version": 3
   },
   "file_extension": ".py",
   "mimetype": "text/x-python",
   "name": "python",
   "nbconvert_exporter": "python",
   "pygments_lexer": "ipython3",
   "version": "3.11.9"
  }
 },
 "nbformat": 4,
 "nbformat_minor": 2
}
