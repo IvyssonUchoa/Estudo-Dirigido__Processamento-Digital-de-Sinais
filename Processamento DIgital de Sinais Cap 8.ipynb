{
 "cells": [
  {
   "cell_type": "markdown",
   "metadata": {},
   "source": [
    "<div>\n",
    "  <center><h2><strong>Processamento Digital de Sinais</strong></h2></center>\n",
    "  <center><h3><strong>ESTUDO DIRIGIDO</strong></h3></center>\n",
    "</div><p>\n",
    "\n",
    "\n",
    "<div>\n",
    "<center><strong>Semestre:</strong> 2024.2<p></center>\n",
    "<center><strong>Livro Texto:</strong> Digital Signal Processing using MatLab<p></center>\n",
    "<strong>Professor:</strong> Moacy Pereira da Silva<p>\n",
    "<strong>Aluno:</strong> Ivysson Fernandes de Queiroz Uchôa<p>"
   ]
  },
  {
   "cell_type": "markdown",
   "metadata": {},
   "source": [
    "## __Capítulo 8 - Design de Filtros IIR__\n",
    "\n",
    "---"
   ]
  },
  {
   "cell_type": "markdown",
   "metadata": {},
   "source": [
    "<p>Os filtros IIR têm respostas de impulso de duração infinita, portanto, eles podem ser\n",
    "combinados com filtros analógicos, todos os quais geralmente têm respostas de impulso infinitamente longas\n",
    "<p>Portanto, a técnica básica de design de filtro IIR transforma filtros analógicos bem conhecidos em filtros digitais usando mapeamentos de valor complexo\n",
    "<p>Essa técnica básica é chamada de transformação de filtro A/D (analógico para digital)"
   ]
  },
  {
   "cell_type": "markdown",
   "metadata": {},
   "source": [
    "### <u> Preliminares"
   ]
  },
  {
   "cell_type": "markdown",
   "metadata": {},
   "source": [
    "* <strong>Escala Linear Relativa</strong>\n",
    "<p style=\"margin-left: 30px;\">Esse conceito é fundamental para especificar filtros analógicos, que são a base para os filtros IIR\n",
    "<p style=\"margin-left: 30px;\">A ideia central é :\n",
    "<center>\n",
    "\n",
    "![image.png](images/image46.png)\n",
    "</center>\n",
    "<li style=\"margin-left: 30px;\">ϵ: parâmetro que define as ondulações na banda de passagem\n",
    "<li style=\"margin-left: 30px;\">Ωp : frequência de corte da banda de passagem (rad/s)\n",
    "<li style=\"margin-left: 30px;\">A: parâmetro de atenuação da banda de rejeição\n",
    "<li style=\"margin-left: 30px;\">Ωs: frequência de corte da banda de rejeição (rad/s)\n",
    "\n",
    "<p style=\"margin-left: 30px;\">Dada as especificações, um filtro passa-baixo analogico pode ser visto como:\n",
    "<center>\n",
    "\n",
    "![image.png](images/image47.png)\n",
    "</center>"
   ]
  },
  {
   "cell_type": "markdown",
   "metadata": {},
   "source": [
    "* <strong>Propriedades da Resposta em Magnitude ao Quadrado</strong>\n",
    "<p style=\"margin-left: 30px;\"> A resposta em magnitude ao quadrado é usada para especificar filtros analógicos porque não contém informação de fase\n",
    "<p style=\"margin-left: 30px;\">Para entender o comportamento do sistema no domínio da frequência, considera-se a função de transferência no domínio s:\n",
    "<center>\n",
    "\n",
    "![image.png](images/image48.png)\n",
    "</center>\n",
    "\n",
    "<p style=\"margin-left: 30px;\">A resposta em magnitude ao quadrado pode ser expressa como:\n",
    "<center>\n",
    "\n",
    "![image.png](images/image49.png)\n",
    "</center>\n",
    "\n",
    "<p style=\"margin-left: 30px;\">Isso significa que os polos e zeros da resposta em magnitude ao quadrado são distribuídos de forma simétrica em relação ao eixo imaginário jΩ "
   ]
  },
  {
   "cell_type": "markdown",
   "metadata": {},
   "source": [
    "### <u> Alguns Filtros Especiais"
   ]
  },
  {
   "cell_type": "markdown",
   "metadata": {},
   "source": [
    "* <strong>Resonadores Digitais</strong>\n",
    "<p style=\"margin-left: 30px;\">Um resonador digital é um filtro passa-faixa especial que tem dois polos complexos conjugados próximos ao círculo unitário no plano z\n",
    "<p style=\"margin-left: 30px;\">Ele apresenta um pico de ressonância na frequência determinada pela posição de seus polos\n",
    "<p style=\"margin-left: 30px;\">Muito usado em sintetizadores de áudio, processamento de voz e filtros passa-faixa simples\n",
    "\n",
    "<p style=\"margin-left: 30px;\">Respostas de um Resonador Digital:\n",
    "<center>\n",
    "\n",
    "![image.png](images/image50.png)\n",
    "</center>\n",
    "\n",
    "<p style=\"margin-left: 30px;\">A função de transferência H(z) de um resonador é dada por:\n",
    "\n",
    "$$\n",
    "H(z) = \\frac{b0}{1-(2tcosw0)z^{-1}+r^{2}z^{-2}}\n",
    "$$\n",
    "\n",
    "<li style=\"margin-left: 30px;\">r é o raio do polo (quanto mais próximo de 1, mais estreita a banda)\n",
    "<li style=\"margin-left: 30px;\">w0 é a frequência de ressonância\n",
    "<li style=\"margin-left: 30px;\">b0 é um parâmetro de ganho\n",
    "\n",
    "<p style=\"margin-left: 30px;\">Se r for próximo de 1, o filtro terá um pico de resposta muito acentuado em w0\n",
    "​"
   ]
  },
  {
   "cell_type": "markdown",
   "metadata": {},
   "source": [
    "* <strong>Filtros Notch</strong>\n",
    "<p style=\"margin-left: 30px;\">Um filtro notch é um filtro rejeita-faixa projetado para eliminar uma frequência específica enquanto mantém as demais inalteradas\n",
    "<p style=\"margin-left: 30px;\">Muito útil para remover ruído de 60 Hz da rede elétrica em sinais de áudio e eliminar frequências indesejadas em sistemas de comunicação\n",
    "\n",
    "<p style=\"margin-left: 30px;\">A função de transferência de um notch simples é:\n",
    "\n",
    "$$\n",
    "H(z)=b0(1-e^{jw0}z^{-1})(1-e^{-jw0}z^{-1})\n",
    "$$\n",
    "$$\n",
    "=> H(z)=b0(1-2cosw0z^{-1}+z^{-2}) \n",
    "$$\n",
    "\n",
    "<p style=\"margin-left: 30px;\">Respostas de um típico filtro de notch:\n",
    "<center>\n",
    "\n",
    "![image.png](images/image51.png)\n",
    "</center>\n",
    "​\n",
    "<p style=\"margin-left: 30px;\">Um notch simples pode afetar um intervalo grande de frequências além da frequência alvo\n",
    "<p style=\"margin-left: 30px;\">Para reduzir a largura da faixa rejeitada, podemos adicionar polos próximos aos zeros, obtendo\n",
    "\n",
    "<center>\n",
    "\n",
    "![image.png](images/image52.png)\n",
    "</center>\n",
    "\n",
    "<p style=\"margin-left: 30px;\">Quanto mais próximo de 1 for o valor de r, mais estreita será a faixa rejeitada"
   ]
  },
  {
   "cell_type": "markdown",
   "metadata": {},
   "source": [
    "* <strong>Filtros Comb</strong>\n",
    "<p style=\"margin-left: 30px;\">Um filtro comb tem uma resposta periódica em frequência, que se assemelham aos dentes de um pente\n",
    "<p style=\"margin-left: 30px;\">Utilizado em eliminação de harmônicos da rede elétrica, remoção de ruído em radar e efeitos sonoros e reverberação\n",
    "\n",
    "<p style=\"margin-left: 30px;\">Ele pode ser obtido modificando um filtro FIR:\n",
    "\n",
    "<center>\n",
    "\n",
    "![image.png](images/image53.png)\n",
    "</center>\n",
    "​\n",
    "<p style=\"margin-left: 30px;\">Isso faz com que a resposta de frequência do filtro original se repita periodicamente ao longo da banda de frequências."
   ]
  },
  {
   "cell_type": "markdown",
   "metadata": {},
   "source": [
    "* <strong>Filtros Passa-Tudo</strong>\n",
    "<p style=\"margin-left: 30px;\">Filtros passa-tudo preservam a magnitude do sinal, mas alteram sua fase\n",
    "<p style=\"margin-left: 30px;\">Usados para corrigir a fase de outros sistemas, sem modificar a amplitude do sinal\n",
    "<p style=\"margin-left: 30px;\">São muito utilizados em processamento de áudio e comunicações\n",
    "\n",
    "<p style=\"margin-left: 30px;\">A função de transferência de um filtro passa-tudo genérico é:\n",
    "\n",
    "$$\n",
    "H(z) = \\frac{z^{-1}-α}{1 - αz^{-1}}\n",
    "$$\n",
    "​\n",
    "<p style=\"margin-left: 30px;\">Os polos e zeros são espelhados um do outro, garantindo que a magnitude seja constante para todas as frequências\n",
    "\n",
    "<p style=\"margin-left: 30px;\">Localizações de pólo zero para (a) filtro passa-tudo unipolar e (b) bipolar\n",
    "<center>\n",
    "\n",
    "![image.png](images/image54.png)\n",
    "</center>"
   ]
  },
  {
   "cell_type": "markdown",
   "metadata": {},
   "source": [
    "* <strong>Osciladores Senoidais Digitais </strong>\n",
    "<p style=\"margin-left: 30px;\">Um oscilador digital gera sinais senoidais sem necessidade de entrada     \n",
    "<p style=\"margin-left: 30px;\">Baseia-se no conceito de resonadores, mas com os polos exatamente sobre o círculo unitário    \n",
    "<p style=\"margin-left: 30px;\">Utilizado em geração de tons para áudio e modulação de sinais em comunicações\n",
    "\n",
    "<p style=\"margin-left: 30px;\">Se configurarmos um resonador com r=1, obtemos:\n",
    "\n",
    "$$\n",
    "H(z) = \\frac{A*sinw0}{1-(2cosw0)z^{-1}+z^{-2}}\n",
    "$$\n",
    "​\n",
    "<p style=\"margin-left: 30px;\">A diferença de equação entre um resonador e um oscilador é que o oscilador mantém a oscilação para sempre, sem necessidade de excitação externa\n",
    "\n",
    "<p style=\"margin-left: 30px;\">Resposta de Magnitude e Fase para filtros passa-tudo de 1 polo (linha solida) e 2 polos (tracejado) \n",
    "<center>\n",
    "\n",
    "![image.png](images/image55.png)\n",
    "</center>\n",
    "\n",
    "<p style=\"margin-left: 30px;\">Estrutura de Oscilador Senoidal Digital\n",
    "<center>\n",
    "\n",
    "![image.png](images/image56.png)\n",
    "</center>"
   ]
  },
  {
   "cell_type": "markdown",
   "metadata": {},
   "source": []
  }
 ],
 "metadata": {
  "language_info": {
   "name": "python"
  }
 },
 "nbformat": 4,
 "nbformat_minor": 2
}
