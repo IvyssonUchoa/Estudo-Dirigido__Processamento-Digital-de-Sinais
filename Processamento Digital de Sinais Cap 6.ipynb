{
 "cells": [
  {
   "cell_type": "markdown",
   "metadata": {},
   "source": [
    "<div>\n",
    "  <center><h2><strong>Processamento Digital de Sinais</strong></h2></center>\n",
    "  <center><h3><strong>ESTUDO DIRIGIDO</strong></h3></center>\n",
    "</div><p>\n",
    "\n",
    "\n",
    "<div>\n",
    "<center><strong>Semestre:</strong> 2024.2<p></center>\n",
    "<center><strong>Livro Texto:</strong> Digital Signal Processing using MatLab<p></center>\n",
    "<strong>Professor:</strong> Moacy Pereira da Silva<p>\n",
    "<strong>Aluno:</strong> Ivysson Fernandes de Queiroz Uchôa<p>"
   ]
  },
  {
   "cell_type": "markdown",
   "metadata": {},
   "source": [
    "## __Capítulo 6 - Implementação de Filtros de Tempo Discretos__\n",
    "\n",
    "---"
   ]
  },
  {
   "cell_type": "markdown",
   "metadata": {},
   "source": [
    "<p>Para processar sinais, temos que projetar e implementar sistemas chamados filtros (ou analisadores de espectro em alguns contextos). A questão do design do filtro é influenciada por fatores como o tipo do filtro (ou seja, IIR ou FIR) ou a forma de sua implementação (estruturas)\n",
    "<p>Portanto, antes de discutirmos a questão do design, primeiro nos preocupamos com como esses filtros podem ser implementados na prática.\n",
    "<p>Os filtros IIR, conforme projetados e usados ​​em DSP, podem ser modelados por funções racionais do sistema ou, equivalentemente, por equações de diferença.\n",
    "<p>Além das estruturas de filtro, também consideramos problemas associados a efeitos de quantização quando a aritmética de precisão finita é usada na implementação. Quando os filtros são implementados em hardware ou software, os coeficientes do filtro, bem como as operações do filtro, são submetidos aos efeitos dessas operações de precisão finita"
   ]
  },
  {
   "cell_type": "markdown",
   "metadata": {},
   "source": [
    "### <u> Elementos Básicos"
   ]
  },
  {
   "cell_type": "markdown",
   "metadata": {},
   "source": [
    "<p>Para descrever estruturas de filtros digitais são necessários três elementos:\n",
    "<li><strong>Somador:</strong>: Este elemento tem duas entradas e uma saída. A adição de três ou mais sinais é implementada por somadores sucessivos de duas entradas.\n",
    "\n",
    "<li><strong>Multiplicador:</strong> Este é um elemento de entrada única e saída única. É um elemento de ganho\n",
    "\n",
    "<li><strong>Shifter ou Memória:</strong> Este elemento atrasa o sinal que passa por ele em uma amostra\n",
    "<p>\n",
    "<center>\n",
    "\n",
    "![image.png](images/image13.png)\n",
    "</center>\n",
    "\n",
    "<p>Usando esses elementos básicos é possível descrever várias estruturas de filtros IIR e FIR"
   ]
  },
  {
   "cell_type": "markdown",
   "metadata": {},
   "source": [
    "### <u> Estruturas de Filtro IIR"
   ]
  },
  {
   "cell_type": "markdown",
   "metadata": {},
   "source": [
    "<p>Três estruturas diferentes podem ser usadas para implementar um filtro IIR\n",
    "<br>\n",
    "<li><strong>Forma Direta</strong><br>\n",
    "<p style=\"margin-left: 30px;\">A implementação direta é feita a partir da equação de diferenças.\n",
    "<p style=\"margin-left: 30px;\">Há duas partes neste filtro, a parte da média móvel e a parte recursiva\n",
    "<p style=\"margin-left: 30px;\">Esta implementação leva a duas versões: forma direta I e forma direta II.\n",
    "\n",
    "<li style=\"margin-left: 30px;\"> Forma Direta I: Implementa separadamente a parte do numerador e do denominador da função de transferência. Isso resulta em duas cadeias de atraso separadas.\n",
    "<p>\n",
    "<center>\n",
    "\n",
    "![image.png](images/image16.png)\n",
    "</center>\n",
    "\n",
    "<li style=\"margin-left: 30px;\"> Forma Direta II: Reduz a quantidade de elementos de atraso ao combinar as cadeias do numerador e denominador.\n",
    "<p>\n",
    "<center>\n",
    "\n",
    "![image.png](images/image17.png)\n",
    "</center>"
   ]
  },
  {
   "cell_type": "markdown",
   "metadata": {},
   "source": [
    "<li><strong>Forma em Cascata</strong><br>\n",
    "<p style=\"margin-left: 30px;\">Essa estrutura decompõe a função de transferência em seções de segunda ordem (biquads), cada uma representando um sistema de segunda ordem\n",
    "<center>\n",
    "\n",
    "![image.png](images/image14.png)\n",
    "</center>\n",
    "<p style=\"margin-left: 30px;\">Cada biquad pode ser implementado usando a Forma Direta II\n",
    "<p style=\"margin-left: 30px;\">Sua estrutura pode ser vista da seguinte forma:\n",
    "<center>\n",
    "\n",
    "![image.png](images/image18.png)\n",
    "</center>\n",
    "\n",
    "<li style=\"margin-left: 30px;\"><strong>Exemplo 1:</strong> Um filtro é descrito pela seguinte equação diferencial\n",
    "\n",
    "$$\n",
    "16y(n) + 12y(n − 1) + 2y(n − 2) − 4y(n − 3) − y(n − 4) = x(n) − 3x(n − 1) + 11x(n − 2) − 27x(n − 3) + 18x(n − 4)\n",
    "$$\n",
    "\n",
    "Sua estrutura em forma de cascata será determinada por:"
   ]
  },
  {
   "cell_type": "code",
   "execution_count": 3,
   "metadata": {},
   "outputs": [
    {
     "name": "stdout",
     "output_type": "stream",
     "text": [
      "b0: 0.0625\n",
      "B: [[ 6.25000000e-02  6.24500451e-17  5.62500000e-01]\n",
      " [ 1.00000000e+00 -3.00000000e+00  2.00000000e+00]]\n",
      "A: [[ 1.    -0.25  -0.125]\n",
      " [ 1.     1.     0.5  ]]\n"
     ]
    }
   ],
   "source": [
    "import numpy as np\n",
    "from scipy.signal import tf2sos\n",
    "\n",
    "def dir2cas(b, a):\n",
    "    b0 = b[0] / a[0]\n",
    "    b = np.array(b) / a[0]\n",
    "    a = np.array(a) / a[0]\n",
    "    \n",
    "    # Obtendo os coeficientes na forma de biquads\n",
    "    sos = tf2sos(b, a)\n",
    "    \n",
    "    B = sos[:, :3]  # Coeficientes do numerador\n",
    "    A = sos[:, 3:]  # Coeficientes do denominador\n",
    "    \n",
    "    return b0, B, A\n",
    "\n",
    "\n",
    "b = [1, -3, 11, -27, 18]\n",
    "a = [16, 12, 2, -4, -1]\n",
    "b0, B, A = dir2cas(b, a)\n",
    "\n",
    "print(\"b0:\", b0)\n",
    "print(\"B:\", B)\n",
    "print(\"A:\", A)\n"
   ]
  },
  {
   "cell_type": "markdown",
   "metadata": {},
   "source": [
    "<p style=\"margin-left: 30px;\">A estrutura resultante é \n",
    "<center>\n",
    "\n",
    "![image.png](images/image19.png)\n",
    "</center>"
   ]
  },
  {
   "cell_type": "markdown",
   "metadata": {},
   "source": [
    "<li><strong>Forma Paralela</strong><br>\n",
    "<p style=\"margin-left: 30px;\">A função de transferência é expressa como uma soma de frações parciais:\n",
    "<center>\n",
    "\n",
    "![image.png](images/image15.png)\n",
    "</center>\n",
    "<p style=\"margin-left: 30px;\">onde P(z) representa uma parte FIR (se M≥N). Cada termo da soma pode ser implementado individualmente, resultando em um sistema paralelo."
   ]
  },
  {
   "cell_type": "markdown",
   "metadata": {},
   "source": [
    "### <u> Estruturas de Filtro FIR"
   ]
  },
  {
   "cell_type": "markdown",
   "metadata": {},
   "source": [
    "<p>Os filtros FIR são uma classe de filtros digitais que possuem um tempo de resposta finito\n",
    "<p> Sua saída depende apenas de valores presentes e passados da entrada e não de valores passados da saída\n",
    "<p>Quatro estruturas diferentes podem ser usadas para implementar um filtro IIR"
   ]
  },
  {
   "cell_type": "markdown",
   "metadata": {},
   "source": [
    "<li><strong>Forma Direta</strong><br>\n",
    "<p style=\"margin-left: 30px;\">A forma direta implementa a equação de diferenças exatamente como ela é escrita. Isso resulta em uma estrutura conhecida como linha de atraso com somadores ponderados.\n",
    "\n",
    "<p style=\"margin-left: 30px;\">Sua estrutura consiste em:\n",
    "<li style=\"margin-left: 30px;\">Um conjunto de elementos de atraso, \n",
    "<li style=\"margin-left: 30px;\">Multiplicadores correspondentes aos coeficientes bn\n",
    "<li style=\"margin-left: 30px;\">Somadores para combinar os resultados."
   ]
  },
  {
   "cell_type": "markdown",
   "metadata": {},
   "source": [
    "<li><strong>Forma de Cascata</strong><br>\n",
    "<p style=\"margin-left: 30px;\">Nesta abordagem, a função de transferência H(z) é fatorada em seções de segunda ordem. Cada seção é implementada separadamente, formando um sistema em cascata.\n",
    "<center>\n",
    "\n",
    "![image.png](images/image20.png)\n",
    "</center>\n",
    "\n",
    "<p style=\"margin-left: 30px;\">onde cada Hk(z) representa um biquad (sistema de segunda ordem).\n",
    "\n",
    "<p style=\"margin-left: 30px;\">A estrutura em cascata pode ser visualizada da seguinte forma:\n",
    "<center>\n",
    "\n",
    "![image.png](images/image22.png)"
   ]
  },
  {
   "cell_type": "markdown",
   "metadata": {},
   "source": [
    "<li><strong>Forma de Fase Linear</strong><br>\n",
    "<p style=\"margin-left: 30px;\">Para aplicações que exigem uma resposta de fase linear, os coeficientes do filtro FIR podem ser simétricos ou antissimétricos:\n",
    "\n",
    "<li style=\"margin-left: 30px;\">Simétrico: h(n) = h(M−1−n) → Introduz apenas um atraso constante na fase.\n",
    "<li style=\"margin-left: 30px;\">Antissimétrico: h(n) = −h(M−1−n) → Útil para filtros passa-altas.</li>\n",
    "\n",
    "<p style=\"margin-left: 30px;\">Duas estruturas são possíveis para a forma de fase linear:\n",
    "<center>\n",
    "\n",
    "![image.png](images/image23.png)\n",
    "![image.png](images/image24.png)\n",
    "</center>"
   ]
  },
  {
   "cell_type": "markdown",
   "metadata": {},
   "source": [
    "<li><strong>Forma de Amostragem de Frequência</strong><br>\n",
    "<p style=\"margin-left: 30px;\">Aqui, os coeficientes do filtro FIR são obtidos diretamente no domínio da frequência, utilizando a Transformada Discreta de Fourier (DFT)\n",
    "<center>\n",
    "\n",
    "![image.png](images/image21.png)\n",
    "</center>\n",
    "\n",
    "<p>A estrutura dessa forma pode ser vista como:\n",
    "<center>\n",
    "\n",
    "![image.png](images/image25.png)\n",
    "</center>"
   ]
  },
  {
   "cell_type": "markdown",
   "metadata": {},
   "source": [
    "### <u> Estruturas de Filtro Lattice"
   ]
  },
  {
   "cell_type": "markdown",
   "metadata": {},
   "source": [
    "<p>Os filtros lattice são uma forma alternativa de implementação de filtros digitais, especialmente úteis para aplicações em processamento de sinais adaptativo e processamento de fala\n",
    "<p>Eles oferecem vantagens em termos de estabilidade numérica e eficiência computacional, especialmente para filtros FIR e IIR\n",
    "<p>Os filtros lattice são projetados com uma estrutura em cadeia, onde cada estágio realiza uma transformação simples da entrada do sinal\n",
    "<p>Essa estrutura permite uma implementação eficiente e um controle numérico estável, tornando-a ideal para aplicações de filtros adaptativos e modelos autoregressivos."
   ]
  },
  {
   "cell_type": "markdown",
   "metadata": {},
   "source": [
    "<p>Existem dois tipos principais:\n",
    "<p> 1) Lattice FIR (apenas zeros na resposta ao impulso)\n",
    "<p> 2) Lattice IIR (combina zeros e polos)"
   ]
  },
  {
   "cell_type": "markdown",
   "metadata": {},
   "source": [
    "* <strong>All-Zero Lattice</strong>\n",
    "\n",
    "<p style=\"margin-left: 30px;\">A estrutura lattice FIR representa um filtro de resposta ao impulso finita.\n",
    "<p style=\"margin-left: 30px;\">Esse filtro é implementado com M-1 estágios, onde cada estágio usa um coeficiente de reflexão Km para processar o sinal\n",
    "<p style=\"margin-left: 30px;\">A relação entre a entrada e a saída de cada estágio é dada por: \n",
    "\n",
    "$$\n",
    "f0(n) = g0(n) = K0x(n)\n",
    "$$\n",
    "$$\n",
    "y(n) = fM−1(n)\n",
    "$$\n",
    "\n",
    "<p style=\"margin-left: 30px;\">Onde <u>f0(n) = g0(n) = K0x(n)</u> são os sinais de entrada e saída no estágio e <u>Km</u> são os coeficientes de reflexão do filtro lattice.\n",
    "<p style=\"margin-left: 30px;\">A saída do filtro é dada por:\n",
    "\n",
    "$$\n",
    "y(n)=fM−1(n)\n",
    "$$\n",
    "\n",
    "<p style=\"margin-left: 30px;\"> Estrutura Lattice FIR:\n",
    "<center>\n",
    "\n",
    "![image.png](images/image27.png)\n",
    "</center>"
   ]
  },
  {
   "cell_type": "markdown",
   "metadata": {},
   "source": [
    "* <strong>Estrutura Lattice com todos os Polos</strong>\n",
    "\n",
    "<p style=\"margin-left: 30px;\"> Ela pode ser desenvolvida a partir de uma estrutura de rede FIR\n",
    "\n",
    "<p style=\"margin-left: 30px;\"> Sua estrutura pode ser visualizada da seguinte maneira:\n",
    "<center>\n",
    "\n",
    "![image.png](images/image28.png)\n",
    "</center>"
   ]
  },
  {
   "cell_type": "markdown",
   "metadata": {},
   "source": []
  }
 ],
 "metadata": {
  "kernelspec": {
   "display_name": "Python 3",
   "language": "python",
   "name": "python3"
  },
  "language_info": {
   "codemirror_mode": {
    "name": "ipython",
    "version": 3
   },
   "file_extension": ".py",
   "mimetype": "text/x-python",
   "name": "python",
   "nbconvert_exporter": "python",
   "pygments_lexer": "ipython3",
   "version": "3.11.9"
  }
 },
 "nbformat": 4,
 "nbformat_minor": 2
}
