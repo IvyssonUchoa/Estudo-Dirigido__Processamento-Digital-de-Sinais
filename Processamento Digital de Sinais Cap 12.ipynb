{
 "cells": [
  {
   "cell_type": "markdown",
   "metadata": {},
   "source": [
    "<div>\n",
    "  <center><h2><strong>Processamento Digital de Sinais</strong></h2></center>\n",
    "  <center><h3><strong>ESTUDO DIRIGIDO</strong></h3></center>\n",
    "</div><p>\n",
    "\n",
    "\n",
    "<div>\n",
    "<center><strong>Semestre:</strong> 2024.2<p></center>\n",
    "<center><strong>Livro Texto:</strong> Digital Signal Processing using MatLab<p></center>\n",
    "<strong>Professor:</strong> Moacy Pereira da Silva<p>\n",
    "<strong>Aluno:</strong> Ivysson Fernandes de Queiroz Uchôa<p>"
   ]
  },
  {
   "cell_type": "markdown",
   "metadata": {},
   "source": [
    "## __Capítulo 12 - Aplicações em Comunicações__\n",
    "\n",
    "---"
   ]
  },
  {
   "cell_type": "markdown",
   "metadata": {},
   "source": [
    "### <u> A Modulação por Código de Pulso"
   ]
  },
  {
   "cell_type": "markdown",
   "metadata": {},
   "source": [
    "<p>A Modulação por Código de Pulso (PCM) é um método usado para converter sinais analógicos em digitais, permitindo que sejam transmitidos ou armazenados de forma eficiente\n",
    "<p>É amplamente utilizada em comunicações digitais, especialmente na transmissão de voz em sistemas telefônicos"
   ]
  },
  {
   "cell_type": "markdown",
   "metadata": {},
   "source": [
    "<p>O processo de PCM ocorre em três etapas principais:\n",
    "\n",
    "<li><strong>Amostragem</strong>\n",
    "<p style=\"margin-left: 30px;\">O sinal analógico é amostrado em intervalos regulares de tempo\n",
    "<p style=\"margin-left: 30px;\">A taxa de amostragem segue o Teorema de Nyquist, que diz que a frequência de amostragem deve ser pelo menos duas vezes a maior frequência do sinal original\n",
    "<p>\n",
    "\n",
    "<li><strong>Quantização</strong>\n",
    "<p style=\"margin-left: 30px;\">Cada amostra é aproximada para um valor discreto dentro de um conjunto finito de níveis de quantização\n",
    "<p style=\"margin-left: 30px;\">Quanto mais níveis de quantização disponíveis, menor o erro\n",
    "<p style=\"margin-left: 30px;\">Se usa um quantizador uniforme ou um quantizador não uniforme\n",
    "<p>\n",
    "\n",
    "<li><strong>Codificação</strong>\n",
    "<p style=\"margin-left: 30px;\">A amostra quantizada é convertida em um número binário de b bits\n",
    "<p style=\"margin-left: 30px;\">Exemplo: Se usamos 8 bits por amostra, cada amostra pode assumir 256 níveis diferentes\n",
    "<p style=\"margin-left: 30px;\">O bit rate (taxa de bits) pode ser calculado como\n",
    "\n",
    "$$\n",
    "Bit Rate=Frequencia de Amostragem×Numero de Bits por Amostra\n",
    "$$"
   ]
  },
  {
   "cell_type": "markdown",
   "metadata": {},
   "source": [
    "<p>Para reduzir erros de quantização e melhorar a eficiência, se utilizam compressores logarítmicos\n",
    "<li><strong>Lei µ (mu-law)</strong>Padrão usado nos EUA e Canadá (μ=255)\n",
    "<li><strong>Lei A (A-law)</strong>Padrão europeu (A=87.56)\n",
    "\n",
    "<p>Eles aplicam uma compressão logarítmica antes da quantização e depois expandem os valores na reconstrução (processo chamado de companding)\n",
    "\n",
    "<p>Comparação das não linearidades da lei µ e da lei A:\n",
    "<center>\n",
    "\n",
    "![image.png](images/image57.png)\n",
    "</center>"
   ]
  },
  {
   "cell_type": "markdown",
   "metadata": {},
   "source": [
    "<p>Como benefícios, o PCM possui alta qualidade de áudio, sem degradação durante a transmissão, é resistente a ruído e interferência e é compatível com técnicas de compressão e transmissão eficientes\n",
    "<p>Porém requer grande largura de banda "
   ]
  },
  {
   "cell_type": "markdown",
   "metadata": {},
   "source": [
    "<p>Exemplo de um projeto de PCM\n",
    "<center>\n",
    "\n",
    "![image.png](images/image58.png)\n",
    "</center>"
   ]
  },
  {
   "cell_type": "markdown",
   "metadata": {},
   "source": [
    "### <u> PCM Diferencial (DPCM)"
   ]
  },
  {
   "cell_type": "markdown",
   "metadata": {},
   "source": [
    "<p>A Modulação por Código de Pulso Diferencial (DPCM) é uma técnica que melhora a eficiência da PCM ao codificar apenas a diferença entre amostras sucessivas do sinal, reduzindo a quantidade de bits necessária para transmissão"
   ]
  },
  {
   "cell_type": "markdown",
   "metadata": {},
   "source": [
    "<li><strong>Princípio do DPCM</strong>\n",
    "<p style=\"margin-left: 30px;\">DPCM aproveita o fato de que sinais como voz e áudio mudam lentamente, ou seja, amostras consecutivas são altamente correlacionadas\n",
    "<p style=\"margin-left: 30px;\">Em vez de armazenar/transmitir valores absolutos, codificamos a diferença entre uma amostra e sua previsão baseada em amostras anteriores"
   ]
  },
  {
   "cell_type": "markdown",
   "metadata": {},
   "source": [
    "\n",
    "<li><strong>Modelo Matemático</strong>\n",
    "<p style=\"margin-left: 30px;\">A amostra atual do sinal é representada por s(n)\n",
    "<p style=\"margin-left: 30px;\">O DPCM usa um previsor linear para estimar a próxima amostra:\n",
    "\n",
    "<center>\n",
    "\n",
    "![image.png](images/image60.png)\n",
    "</center>\n",
    "\n",
    "<li style=\"margin-left: 30px;\">s(n) é a amostra prevista\n",
    "<li style=\"margin-left: 30px;\">a(i) são os coeficientes do previsor\n",
    "<li style=\"margin-left: 30px;\">p é a ordem do previsor\n",
    "<p>"
   ]
  },
  {
   "cell_type": "markdown",
   "metadata": {},
   "source": [
    "<p style=\"margin-left: 30px;\">A diferença (erro de predição) entre a amostra real e a prevista é\n",
    "<center>\n",
    "\n",
    "![image.png](images/image59.png)\n",
    "</center>\n",
    "\n",
    "<p style=\"margin-left: 30px;\">Este erro e(n) é quantizado e transmitido\n",
    "<p style=\"margin-left: 30px;\">No receptor, o mesmo previsor é usado para reconstruir o sinal original a partir do erro quantizado:\n",
    "<center>\n",
    "\n",
    "![image.png](images/image61.png)\n",
    "</center>"
   ]
  },
  {
   "cell_type": "markdown",
   "metadata": {},
   "source": [
    "<p style=\"margin-left: 30px;\">Diagrama de blocos de um transcodificador DPCM: (a) codificador, (b) decodificador\n",
    "<center>\n",
    "\n",
    "![image.png](images/image62.png)\n",
    "</center>"
   ]
  },
  {
   "cell_type": "markdown",
   "metadata": {},
   "source": [
    "### <u> PCM e DPCM Adaptativos (ADPCM)"
   ]
  },
  {
   "cell_type": "markdown",
   "metadata": {},
   "source": [
    "<p>A Modulação por Código de Pulso Adaptativa (ADPCM) é uma melhoria sobre PCM e DPCM, onde o sistema se adapta dinamicamente às variações de potência do sinal ao longo do tempo\n",
    "<p>Isso melhora a eficiência da quantização e reduz a taxa de bits necessária para transmitir sinais de voz sem perder qualidade"
   ]
  },
  {
   "cell_type": "markdown",
   "metadata": {},
   "source": [
    "<li><strong>Problema do PCM e DPCM Tradicionais</strong>\n",
    "<p style=\"margin-left: 30px;\">Tanto o PCM quanto o DPCM assumem que a potência do sinal é constante\n",
    "<p style=\"margin-left: 30px;\">Na prática, sinais de voz variam sua amplitude ao longo do tempo\n",
    "<p style=\"margin-left: 30px;\">Se o passo de quantização (∆) for fixo, podem ocorrer dois problemas: Ruído excessivo para sinais fracos e Distorsão por saturação para sinais fortes \n",
    "<p style=\"margin-left: 30px;\">Esses problemas acontecem caso ∆ seja grande ou pequeno respectivamente"
   ]
  },
  {
   "cell_type": "markdown",
   "metadata": {},
   "source": [
    "<li><strong>Solução: Quantização Adaptativa</strong>\n",
    "<p style=\"margin-left: 30px;\">No ADPCM, o sistema ajusta automaticamente o passo de quantização (∆) com base na variação do sinal.\n",
    "\n",
    "<p style=\"margin-left: 30px;\">Existem dois tipos principais:\n",
    "\n",
    "<li style=\"margin-left: 30px;\">Quantizador Adaptativo Feedforward\n",
    "<p style=\"margin-left: 40px;\">→ Analisa a potência do sinal antes da quantização\n",
    "<p style=\"margin-left: 40px;\">→ Exemplo: Calcula a variância do sinal e ajusta o passo de quantização\n",
    "<center>\n",
    "\n",
    "![image.png](images/image63.png)\n",
    "</center>\n",
    "<p style=\"margin-left: 40px;\">→ onde σn + 1 é a estimativa da variância do sinal\n",
    "\n",
    "<li style=\"margin-left: 30px;\"> Quantizador Adaptativo Feedback\n",
    "<p style=\"margin-left: 40px;\">→ Ajusta o passo de quantização com base na saída quantizada\n",
    "<p style=\"margin-left: 40px;\">→ Exemplo: Se a saída do quantizador for grande, aumentamos Δ; se for pequena, diminuímos Δ\n",
    "<center>\n",
    "\n",
    "![image.png](images/image64.png)\n",
    "</center>\n",
    "<p style=\"margin-left: 40px;\">→ onde α(n) depende dos valores anteriores do sinal\n"
   ]
  },
  {
   "cell_type": "markdown",
   "metadata": {},
   "source": [
    "<li><strong>ADPCM na Prática</strong>\n",
    "\n",
    "<p style=\"margin-left: 30px;\">O ADPCM reduz a taxa de bits de voz de 64 kbps (PCM padrão) para 32 kbps com qualidade semelhante\n",
    "<p style=\"margin-left: 30px;\">O CCITT (agora ITU-T) padronizou um codificador ADPCM para telefonia\n",
    "<p style=\"margin-left: 30px;\">Ele recebe sinais PCM comprimidos e os converte para 4 bits usando predição e quantização adaptativa\n",
    "\n",
    "<p style=\"margin-left: 30px;\">Reduz pela metade a largura de banda necessária para transmitir voz, mantém boa qualidade mesmo com menor taxa de bits, adapta-se dinamicamente às variações do sinal\n",
    "<p style=\"margin-left: 30px;\">Mais complexo que PCM/DPCM, pois requer cálculo contínuo da potência do sinal"
   ]
  },
  {
   "cell_type": "markdown",
   "metadata": {},
   "source": []
  }
 ],
 "metadata": {
  "language_info": {
   "name": "python"
  }
 },
 "nbformat": 4,
 "nbformat_minor": 2
}
