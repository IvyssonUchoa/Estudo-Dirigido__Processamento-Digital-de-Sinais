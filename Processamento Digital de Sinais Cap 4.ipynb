{
 "cells": [
  {
   "cell_type": "markdown",
   "metadata": {},
   "source": [
    "<div>\n",
    "  <center><h2><strong>Processamento Digital de Sinais</strong></h2></center>\n",
    "  <center><h3><strong>ESTUDO DIRIGIDO</strong></h3></center>\n",
    "</div><p>\n",
    "\n"
   ]
  },
  {
   "cell_type": "markdown",
   "metadata": {},
   "source": [
    "<div>\n",
    "<center><strong>Semestre:</strong> 2024.2<p></center>\n",
    "<center><strong>Livro Texto:</strong> Digital Signal Processing using MatLab<p></center>\n",
    "<strong>Professor:</strong> Moacy Pereira da Silva<p>\n",
    "<strong>Aluno:</strong> Ivysson Fernandes de Queiroz Uchôa<p>\n"
   ]
  },
  {
   "cell_type": "markdown",
   "metadata": {},
   "source": [
    "## __Capítulo 4 - Transformada - Z__\n",
    "\n",
    "---"
   ]
  },
  {
   "cell_type": "markdown",
   "metadata": {},
   "source": [
    "<p>A transformada de fourier em tempo discreto, como abordada no capítulo 3, é um método útil para representar sinais discretos e analisar sistemas LTI, facilitando o cálculo da resposta senoidal e sequências somáveis no domínio da frequência. Entretanto, essa abordagem  possui duas limitações.\n",
    "<p>Primeiramente, há muitos sinais úteis na prática para os quais a transformada de Fourier em tempo discreto não existe. Junto a isso, não permite calcular respostas transitórias devido a condições iniciais ou mudanças nos sinais de entrada.\n",
    "<p>Para resolver as limitações apresentadas, a <u>transformada Z</u>, uma extensão da transformada de fourier, fornece uma classe maior de sinais e sistemas a seren analisados, permitindo estudar sequências gerais e corrigir os problemas de sua versão anterior.</p>\n",
    "<br>"
   ]
  },
  {
   "cell_type": "markdown",
   "metadata": {},
   "source": [
    "### <u> Transformada Z bilateral "
   ]
  },
  {
   "cell_type": "markdown",
   "metadata": {},
   "source": [
    "A transformada Z de uma sequência x(n) é dada por:\n",
    "$$\n",
    "X(z)≜\\ Z[x(n)]=\\sum_{n=-\\infty}^{\\infty} x(n)z^{-n}\n",
    "$$\n",
    "<p>onde z é uma variável complexa.</p>\n"
   ]
  },
  {
   "cell_type": "markdown",
   "metadata": {},
   "source": [
    "O conjunto de valores de z para quais X(z) existe é chamado de  <strong>Região de Convergência</strong> (ROC) e é dado por:\n",
    "$$\n",
    "R_{x-}<  \\mid a \\mid< R_{x+}\n",
    "$$"
   ]
  },
  {
   "cell_type": "markdown",
   "metadata": {},
   "source": [
    "* <strong> Propriedades do ROC </strong>\n",
    "1. <p>O ROC é sempre delimitado por círculos, já que a condição de convergência está na magnitude |z|\n",
    "2. <p>As sequências que são zero para 'n<n1' e 'n>n2' são chamadas sequências de duração finita. O ROC para tais sequências é o plano z inteiro. \n",
    "    <br>Se n1 < 0, então z = ∞ não está no ROC. Se n2 > 0, então z = 0 não está no ROC\n",
    "3. <p>O ROC não pode incluir um polo, pois X(z) converge uniformemente\n",
    "4. <p>O ROC é uma região contígua; isto é, o ROC não vem em partes"
   ]
  },
  {
   "cell_type": "markdown",
   "metadata": {},
   "source": [
    "* <strong> Propriedades da transformada Z </strong>\n",
    "<p>As propriedades da transformada z são uma generalização das propriedades da transformada de Fourier de tempo discreto"
   ]
  },
  {
   "cell_type": "markdown",
   "metadata": {},
   "source": [
    "1. Linearidade \n",
    "<br>\n",
    "$$\n",
    "Z[a_1x_1(n)+a_2x_2(n)]=a_1X_1(z)+a_2X_2(z); \n",
    "$$\n",
    "$$\n",
    "ROC: ROC_{x1} ∩ROC_{x2}\n",
    "$$"
   ]
  },
  {
   "cell_type": "markdown",
   "metadata": {},
   "source": [
    "2. Mudança de Amostra\n",
    "<br>\n",
    "$$\n",
    "Z[x(n-N_0)]=z^{-n0}X(z); \n",
    "$$\n",
    "$$\n",
    "ROC: ROC_{z}\n",
    "$$\n"
   ]
  },
  {
   "cell_type": "markdown",
   "metadata": {},
   "source": [
    "3. Mudança de Frequência\n",
    "\n",
    "$$\n",
    "Z[a^nx(n)]=X(\\frac{z}{a});\n",
    "$$\n",
    "$$\n",
    " ROC:ROC_x \\space dimensionado \\space por \\space \\mid a \\mid\n",
    "$$"
   ]
  },
  {
   "cell_type": "markdown",
   "metadata": {},
   "source": [
    "4. Dobrando\n",
    "\n",
    "$$\n",
    "Z[x(-n)]=X(1/z); \n",
    "$$\n",
    "$$\n",
    "ROC: inverso \\space de \\space ROC_z\n",
    "$$\n",
    "\n"
   ]
  },
  {
   "cell_type": "markdown",
   "metadata": {},
   "source": [
    "5. Conjugação complexa\n",
    "$$\n",
    "Z[x^*(n)]=X^*(z^*);\n",
    "$$\n",
    "$$\n",
    "ROC:ROC_z\n",
    "$$\n"
   ]
  },
  {
   "cell_type": "markdown",
   "metadata": {},
   "source": [
    "6. Diferenciação no domínio z\n",
    "$$\n",
    "Z[nx(n)]=-z\\frac{dx(z)}{dz};\n",
    "$$\n",
    "$$\n",
    "ROC:ROC_z\n",
    "$$\n",
    "\n",
    "<p>Esta propriedade também é chamada de propriedade da multiplicação por uma rampa\n"
   ]
  },
  {
   "cell_type": "markdown",
   "metadata": {},
   "source": [
    "7. Multiplicação\n",
    "$$\n",
    "Z[x_1(n)x_2(n)]=\\frac{1}{2πj}∮_{c} X_1(v)X_2(z/v)v^{-1}dv;\n",
    "$$\n",
    "$$\n",
    "\\\\ \\space ROC:ROC_{x1}∩ \\space inverso \\space de \\space ROC_{x2}\n",
    "$$\n",
    "\n",
    "<p>Onde C é um contorno fechado que envolve a origem e está no\n",
    "ROC comum"
   ]
  },
  {
   "cell_type": "markdown",
   "metadata": {},
   "source": [
    "8. Convolução\n",
    "$$\n",
    "Z[x_1(n)*x_2(n)]=X_1(z)X_2(z);\n",
    "$$\n",
    "$$\n",
    "ROC:ROC_{X1}\\space ∩ \\space ROC_{x2}\n",
    "$$\n",
    "\n",
    "<p>Essa propriedade transforma a operação de convolução no domínio do tempo em uma multiplicação entre duas funções, o que é uma propriedade significativa de várias maneiras. "
   ]
  },
  {
   "cell_type": "markdown",
   "metadata": {},
   "source": [
    "* <strong>Exemplo:</strong> caso X1(z) e X2(z) sejam dois polinômios, seu produto pode ser implementado utilizando a função conv\n",
    "\n",
    "Dadas as funções:\n",
    "\n",
    "$$\n",
    "X1(z) = 2 + 3z^{-1} + 4z^{-2}\n",
    "$$\n",
    "\n",
    "$$\n",
    "X2(z) = 3 + 4z^{-1} + 5z^{-2} + 6z^{-3}\n",
    "$$\n",
    "\n",
    "Determine:\n",
    "\n",
    "$$\n",
    "X3(z) = X1(z)X2(z)\n",
    "$$\n",
    "\n",
    "Solução:"
   ]
  },
  {
   "cell_type": "code",
   "execution_count": 12,
   "metadata": {},
   "outputs": [
    {
     "name": "stdout",
     "output_type": "stream",
     "text": [
      "x3 = [ 6 17 34 43 38 24]\n"
     ]
    }
   ],
   "source": [
    "import numpy as np\n",
    "\n",
    "x1 = np.array([2, 3, 4])\n",
    "x2 = np.array([3, 4, 5, 6])\n",
    "\n",
    "x3 = np.convolve(x1, x2)\n",
    "print(f\"x3 = {x3}\")"
   ]
  },
  {
   "cell_type": "markdown",
   "metadata": {},
   "source": [
    "### <u>Inversão da Transformada Z\n"
   ]
  },
  {
   "cell_type": "markdown",
   "metadata": {},
   "source": [
    "<p>Quando X(z) é uma função racional de z<sup>-1</sup>, ela pode ser expressa como uma soma de fatores simples usando a expansão em frações parciais  \n",
    "<p>As sequências individuais correspondentes a esses fatores podem então ser obtidas a partir da tabela da transformada Z."
   ]
  },
  {
   "cell_type": "markdown",
   "metadata": {},
   "source": [
    "<p> Dado:\n",
    "<center>\n",
    "\n",
    "![image.png](images/image9.png)"
   ]
  },
  {
   "cell_type": "markdown",
   "metadata": {},
   "source": [
    "<p>É expresso como:\n",
    "<center>\n",
    "\n",
    "![image.png](images/image10.png)"
   ]
  },
  {
   "cell_type": "markdown",
   "metadata": {},
   "source": [
    "<p>onde o primeiro termo é a parte racional, e o segundo termo é a parte polinomial (comprimento finito)\n",
    "<p>Isso pode ser obtido realizando divisão polinomial se M ≥ N usando a função deconv."
   ]
  },
  {
   "cell_type": "markdown",
   "metadata": {},
   "source": [
    "<p>Executando a expansão de fração parcial na parte racional temos:\n",
    "<center>\n",
    "\n",
    "![image.png](images/image11.png)"
   ]
  },
  {
   "cell_type": "markdown",
   "metadata": {},
   "source": [
    "* <strong>Exemplo:</strong> Considerando a função racional, calcule os resíduos\n",
    "\n",
    "$$\n",
    "X(z) = \\frac{z}{3z^{2}-4z+1}\n",
    "$$"
   ]
  },
  {
   "cell_type": "markdown",
   "metadata": {},
   "source": [
    "Solução:"
   ]
  },
  {
   "cell_type": "code",
   "execution_count": 13,
   "metadata": {},
   "outputs": [
    {
     "name": "stdout",
     "output_type": "stream",
     "text": [
      "R: [-0.5  0.5]\n",
      "P: [0.33333333 1.        ]\n",
      "C: []\n"
     ]
    }
   ],
   "source": [
    "import numpy as np\n",
    "import scipy.signal as signal\n",
    "\n",
    "# Definição dos coeficientes\n",
    "b = [0, 1]\n",
    "a = [3, -4, 1]\n",
    "\n",
    "# Cálculo da expansão em frações parciais\n",
    "R, p, C = signal.residue(b, a)\n",
    "\n",
    "# Resultado\n",
    "print(\"R:\", R)\n",
    "print(\"P:\", p)\n",
    "print(\"C:\", C)\n"
   ]
  },
  {
   "cell_type": "markdown",
   "metadata": {},
   "source": [
    "<p>Usando os resultados, podemos obter\n",
    "\n",
    "$$\n",
    "X(z) = \\frac{\\frac{1}{2}}{1-z^{-1}}-\\frac{\\frac{1}{2}}{1-\\frac{1}{3}z^{-1}}\n",
    "$$"
   ]
  },
  {
   "cell_type": "markdown",
   "metadata": {},
   "source": [
    "* <strong>Exemplo 2:</strong> Calcule a Transformada z Inversa \n",
    "\n",
    "$$\n",
    "X(z) = \\frac{1}{(1-0.9z^{-1})^{2}(1 + 0.9z^{-1})}, |z| > 0.9\n",
    "$$"
   ]
  },
  {
   "cell_type": "markdown",
   "metadata": {},
   "source": [
    "Solução:"
   ]
  },
  {
   "cell_type": "code",
   "execution_count": 14,
   "metadata": {},
   "outputs": [
    {
     "name": "stdout",
     "output_type": "stream",
     "text": [
      "Coeficientes do denominador (a): [ 1.    -0.9   -0.81   0.729]\n"
     ]
    }
   ],
   "source": [
    "import numpy as np\n",
    "import scipy.signal as signal\n",
    "\n",
    "# Avaliando o polinômio do denominador\n",
    "a = np.poly([0.9, 0.9, -0.9]) \n",
    "b = [1] \n",
    "\n",
    "print(\"Coeficientes do denominador (a):\", a)"
   ]
  },
  {
   "cell_type": "code",
   "execution_count": 15,
   "metadata": {},
   "outputs": [
    {
     "name": "stdout",
     "output_type": "stream",
     "text": [
      "R [-0.30864198+0.j  0.55555556+0.j  0.30864198+0.j]\n",
      "P: [ 0.9+0.j  0.9+0.j -0.9+0.j]\n",
      "C: []\n"
     ]
    }
   ],
   "source": [
    "# Cálculo da expansão em frações parciais\n",
    "R, p, C = signal.residue(b, a)\n",
    "\n",
    "# Exibição dos resultados\n",
    "print(\"R\", R)\n",
    "print(\"P:\", p)\n",
    "print(\"C:\", C)"
   ]
  },
  {
   "cell_type": "markdown",
   "metadata": {},
   "source": [
    "<p>A partir dos cálculos de resíduos temos\n",
    "\n",
    "$$\n",
    "X(z) = \\frac{0.25}{(1 + 0.9z^{-1})}+\\frac{0.5}{(1-0.9z^{-1})^{2}}+\\frac{0.25}{(1 + 0.9z^{-1})}, |z| > 0.9\n",
    "$$"
   ]
  },
  {
   "cell_type": "markdown",
   "metadata": {},
   "source": [
    "* <strong>Exemplo 3:</strong>Determine a transformada z inversa de:\n",
    "\n",
    "$$\n",
    "X(z) = \\frac{1+0.4\\sqrt{2}z^{-1}}{1-0.8\\sqrt{2}z^{-1}+0.64z^{-2}}\n",
    "$$"
   ]
  },
  {
   "cell_type": "markdown",
   "metadata": {},
   "source": [
    "Solução:"
   ]
  },
  {
   "cell_type": "code",
   "execution_count": 16,
   "metadata": {},
   "outputs": [
    {
     "name": "stdout",
     "output_type": "stream",
     "text": [
      "R: [0.5-1.j 0.5+1.j]\n",
      "P: [0.56568542+0.56568542j 0.56568542-0.56568542j]\n",
      "C: []\n"
     ]
    }
   ],
   "source": [
    "import numpy as np\n",
    "import scipy.signal as signal\n",
    "\n",
    "# Definição dos coeficientes do numerador e denominador\n",
    "b = [1, 0.4 * np.sqrt(2)]\n",
    "a = [1, -0.8 * np.sqrt(2), 0.64]\n",
    "\n",
    "# Cálculo da expansão em frações parciais\n",
    "R, p, C = signal.residue(b, a)\n",
    "\n",
    "# Exibição dos resultados\n",
    "print(\"R:\", R)\n",
    "print(\"P:\", p)\n",
    "print(\"C:\", C)"
   ]
  },
  {
   "cell_type": "code",
   "execution_count": 17,
   "metadata": {},
   "outputs": [
    {
     "name": "stdout",
     "output_type": "stream",
     "text": [
      "Magnitudes dos polos: [0.8 0.8]\n",
      "Ângulos dos polos (em unidades de π): [ 0.25 -0.25]\n"
     ]
    }
   ],
   "source": [
    "# Cálculo das magnitudes dos polos\n",
    "Mp = np.abs(p)\n",
    "print(\"Magnitudes dos polos:\", Mp)\n",
    "\n",
    "# Cálculo dos ângulos dos polos em unidades de π\n",
    "Ap = np.angle(p) / np.pi\n",
    "print(\"Ângulos dos polos (em unidades de π):\", Ap)\n"
   ]
  },
  {
   "cell_type": "markdown",
   "metadata": {},
   "source": [
    "A partir dessas calculos temos:\n",
    "\n",
    "$$\n",
    "X(z) = \\frac{0.5-j}{1-0.8e^{+j\\frac{π}{4}}z^{-1}}+\\frac{0.5+j}{1-0.8e^{-j\\frac{π}{4}}z^{-1}}, |z|>0.8\n",
    "$$"
   ]
  },
  {
   "cell_type": "markdown",
   "metadata": {},
   "source": [
    "### <u> Transformada Z unilateral"
   ]
  },
  {
   "cell_type": "markdown",
   "metadata": {},
   "source": [
    "<p>Usando uma versão da transformada z bilateral, chamada de transformada z unilateral, é possível solucionar equações diferenciais\n",
    "<p>Esse método substitui outras duas abordagens:\n",
    "<li> <u>Solução homogênea e particular:</u> Encontrando uma solução da parte homogênea e uma solução específica para o termo de entrada.\n",
    "<li> <u>Respostas de entrada nula e estado nulo:</u> Separando os efeitos das condições iniciais e da entrada do sistema. "
   ]
  },
  {
   "cell_type": "markdown",
   "metadata": {},
   "source": [
    "<p>A transformada z unilateral é dada por:\n",
    "<center>\n",
    "\n",
    "![image.png](images/image12.png)"
   ]
  },
  {
   "cell_type": "markdown",
   "metadata": {},
   "source": [
    "* <strong>Exemplo 1:</strong>: Resolva a aequação diferencial\n",
    "\n",
    "$$\n",
    "y(n)=\\frac{1}{3}[x(n)+x(n-1)+x(n-2)]+0.95y(n-1)-0.9025y(n-2) , n>=0\n",
    "$$\n",
    "\n",
    "<p>Onde:\n",
    "\n",
    "$$\n",
    "x(n)=cos(\\frac{πn}{3})u(n)\n",
    "$$\n",
    "$$\n",
    "y(-1) = -2; y(-2) = -3\n",
    "$$\n",
    "$$\n",
    "x(−1) = 1; x(−2) = 1\n",
    "$$\n",
    "\n",
    "<p>Solução:"
   ]
  },
  {
   "cell_type": "code",
   "execution_count": 18,
   "metadata": {},
   "outputs": [
    {
     "name": "stdout",
     "output_type": "stream",
     "text": [
      "xic = [1.47416667 2.13833333]\n"
     ]
    }
   ],
   "source": [
    "import numpy as np\n",
    "from scipy.signal import lfilter, lfiltic, residuez, convolve\n",
    "\n",
    "# Definição dos coeficientes do sistema\n",
    "b = np.array([1, 1, 1]) / 3\n",
    "a = np.array([1, -0.95, 0.9025])\n",
    "\n",
    "# Condições iniciais\n",
    "Y = np.array([-2, -3])  # y(-1), y(-2)\n",
    "X = np.array([1, 1])    # x(-1), x(-2)\n",
    "xic = lfiltic(b, a, Y, X)  # Cálculo dos estados iniciais\n",
    "print(\"xic =\", xic)"
   ]
  },
  {
   "cell_type": "code",
   "execution_count": 19,
   "metadata": {},
   "outputs": [
    {
     "name": "stdout",
     "output_type": "stream",
     "text": [
      "ayplus = [ 1.     -1.95    2.8525 -1.8525  0.9025]\n"
     ]
    }
   ],
   "source": [
    "# Definição da entrada no domínio de Z\n",
    "bxplus = np.array([1, -0.5])\n",
    "axplus = np.array([1, -1, 1])\n",
    "\n",
    "# Cálculo do denominador de Yplus(z)\n",
    "ayplus = convolve(a, axplus)\n",
    "print(\"ayplus =\", ayplus)\n"
   ]
  },
  {
   "cell_type": "code",
   "execution_count": 20,
   "metadata": {},
   "outputs": [
    {
     "name": "stdout",
     "output_type": "stream",
     "text": [
      "byplus = [ 1.8075      0.83083333 -0.4975      1.97166667]\n"
     ]
    }
   ],
   "source": [
    "# Cálculo do numerador de Yplus(z)\n",
    "byplus = convolve(b, bxplus) + convolve(xic, axplus)\n",
    "print(\"byplus =\", byplus)"
   ]
  },
  {
   "cell_type": "code",
   "execution_count": 21,
   "metadata": {},
   "outputs": [
    {
     "name": "stdout",
     "output_type": "stream",
     "text": [
      "R = [0.84532172+2.03113907j 0.84532172-2.03113907j 0.05842828-3.94682918j\n",
      " 0.05842828+3.94682918j]\n",
      "p = [0.475+0.82272413j 0.475-0.82272413j 0.5  +0.8660254j  0.5  -0.8660254j ]\n",
      "C = []\n"
     ]
    }
   ],
   "source": [
    "# Expansão em frações parciais\n",
    "R, p, C = residuez(byplus, ayplus)\n",
    "print(\"R =\", R)\n",
    "print(\"p =\", p)\n",
    "print(\"C =\", C)"
   ]
  },
  {
   "cell_type": "code",
   "execution_count": 22,
   "metadata": {},
   "outputs": [
    {
     "name": "stdout",
     "output_type": "stream",
     "text": [
      "Mp = [0.95 0.95 1.   1.  ]\n",
      "Ap = [ 0.33333333 -0.33333333  0.33333333 -0.33333333]\n"
     ]
    }
   ],
   "source": [
    "# Conversão para forma polar\n",
    "Mp = np.abs(p)\n",
    "Ap = np.angle(p) / np.pi\n",
    "print(\"Mp =\", Mp)\n",
    "print(\"Ap =\", Ap)"
   ]
  },
  {
   "cell_type": "markdown",
   "metadata": {},
   "source": [
    "<p>Isso resulta em:\n",
    "\n",
    "$$\n",
    "y(n) =  0.1169 cos(πn/3) + 7.8937 sin(πn/3) + (0.95)^{n} [1.6906 cos(πn/3) − 4.0623 sin(πn/3)] , n ≥ 0\n",
    "\n",
    "$$"
   ]
  },
  {
   "cell_type": "markdown",
   "metadata": {},
   "source": []
  }
 ],
 "metadata": {
  "kernelspec": {
   "display_name": "Python 3",
   "language": "python",
   "name": "python3"
  },
  "language_info": {
   "codemirror_mode": {
    "name": "ipython",
    "version": 3
   },
   "file_extension": ".py",
   "mimetype": "text/x-python",
   "name": "python",
   "nbconvert_exporter": "python",
   "pygments_lexer": "ipython3",
   "version": "3.11.9"
  }
 },
 "nbformat": 4,
 "nbformat_minor": 2
}
